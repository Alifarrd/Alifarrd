{
  "nbformat": 4,
  "nbformat_minor": 0,
  "metadata": {
    "colab": {
      "provenance": [],
      "authorship_tag": "ABX9TyMTJDznkURLNcOH6w/emlEE",
      "include_colab_link": true
    },
    "kernelspec": {
      "name": "python3",
      "display_name": "Python 3"
    },
    "language_info": {
      "name": "python"
    }
  },
  "cells": [
    {
      "cell_type": "markdown",
      "metadata": {
        "id": "view-in-github",
        "colab_type": "text"
      },
      "source": [
        "<a href=\"https://colab.research.google.com/github/Alifarrd/Alifarrd/blob/main/Runge%20Kutta%204th.ipynb\" target=\"_parent\"><img src=\"https://colab.research.google.com/assets/colab-badge.svg\" alt=\"Open In Colab\"/></a>"
      ]
    },
    {
      "cell_type": "code",
      "execution_count": 67,
      "metadata": {
        "id": "NieAwV1Bg9tz"
      },
      "outputs": [],
      "source": [
        "import math\n",
        "\n",
        "def dydx(y): \n",
        "    S0=-0.4\n",
        "    b=14\n",
        "    z=1.5\n",
        "    Q=100\n",
        "    n=0.002\n",
        "    g=9.8\n",
        "    Sf=Hydraulic_parameter(b,z,y,Q,n,g)[0]\n",
        "    Fr2=Hydraulic_parameter(b,z,y,Q,n,g)[1]\n",
        "    #print ((S0-Sf)/(1-Fr2))\n",
        "    return ((S0-Sf)/(1-Fr2))\n"
      ]
    },
    {
      "cell_type": "code",
      "source": [
        "def Hydraulic_parameter(b,z,y,Q,n,g):\n",
        "  A=(b+(z*y))*y\n",
        "\n",
        "  R=(A/(b+(2*y*math.sqrt(1+z**2))))**(4/3)\n",
        "\n",
        "  Sf=((Q**2)*(n**2))/((R)*(A**2))\n",
        "\n",
        "  T=b+(2*z*y)\n",
        "\n",
        "  Fr2=((Q**2*T)/(g*A**3))\n",
        "  #print (Sf,Fr2)\n",
        "\n",
        "  return(Sf,Fr2) "
      ],
      "metadata": {
        "id": "enJtj6aZpkbD"
      },
      "execution_count": 61,
      "outputs": []
    },
    {
      "cell_type": "code",
      "source": [
        "#Hydraulic_parameter(14,1.5,4.5,100,0.02,9.8)"
      ],
      "metadata": {
        "id": "djkJWfR5rpdg"
      },
      "execution_count": 58,
      "outputs": []
    },
    {
      "cell_type": "code",
      "source": [
        "def rungeKutta(x0, y0, x, h): \n",
        "    # Count number of iterations using step size or \n",
        "    # step height h \n",
        "    n = (int)((x - x0)/h)  \n",
        "    # Iterate for number of iterations \n",
        "    y = y0 \n",
        "    for i in range(1, n + 1): \n",
        "        \"Apply Runge Kutta Formulas to find next value of y\"\n",
        "        k1 = h * dydx(y) \n",
        "        k2 = h * dydx(y + 0.5 * k1) \n",
        "        k3 = h * dydx(y + 0.5 * k2) \n",
        "        k4 = h * dydx(y + k3) \n",
        "  \n",
        "        # Update next value of y \n",
        "        y = y + (1.0 / 6.0)*(k1 + 2 * k2 + 2 * k3 + k4) \n",
        "        print(y)\n",
        "  \n",
        "    return y "
      ],
      "metadata": {
        "id": "7BbchrUprNxA"
      },
      "execution_count": 65,
      "outputs": []
    },
    {
      "cell_type": "code",
      "source": [
        "x0 = 0\n",
        "y = 4.5\n",
        "x = 2\n",
        "h = 0.02\n",
        "print ('The value of y at x is:', rungeKutta(x0, y, x, h) )\n",
        "  "
      ],
      "metadata": {
        "colab": {
          "base_uri": "https://localhost:8080/"
        },
        "id": "cdnr-GFxrRcI",
        "outputId": "73193342-00f8-4d70-d2e7-37c8e0649e51"
      },
      "execution_count": 69,
      "outputs": [
        {
          "output_type": "stream",
          "name": "stdout",
          "text": [
            "4.491713440317463\n",
            "4.483424965856014\n",
            "4.47513455976558\n",
            "4.4668422050058005\n",
            "4.458547884343325\n",
            "4.450251580349078\n",
            "4.441953275395465\n",
            "4.433652951653536\n",
            "4.425350591090095\n",
            "4.4170461754647645\n",
            "4.408739686326991\n",
            "4.400431105013005\n",
            "4.392120412642716\n",
            "4.383807590116567\n",
            "4.375492618112321\n",
            "4.367175477081791\n",
            "4.3588561472475185\n",
            "4.350534608599383\n",
            "4.342210840891155\n",
            "4.333884823636985\n",
            "4.325556536107828\n",
            "4.317225957327803\n",
            "4.3088930660704845\n",
            "4.300557840855125\n",
            "4.292220259942808\n",
            "4.283880301332534\n",
            "4.275537942757223\n",
            "4.267193161679651\n",
            "4.2588459352883055\n",
            "4.250496240493165\n",
            "4.242144053921396\n",
            "4.233789351912971\n",
            "4.225432110516198\n",
            "4.217072305483171\n",
            "4.208709912265128\n",
            "4.200344906007717\n",
            "4.191977261546176\n",
            "4.1836069534004166\n",
            "4.175233955770009\n",
            "4.166858242529074\n",
            "4.158479787221064\n",
            "4.150098563053456\n",
            "4.141714542892324\n",
            "4.133327699256813\n",
            "4.124938004313494\n",
            "4.116545429870616\n",
            "4.108149947372232\n",
            "4.099751527892212\n",
            "4.09135014212813\n",
            "4.0829457603950265\n",
            "4.074538352619048\n",
            "4.066127888330949\n",
            "4.05771433665946\n",
            "4.049297666324524\n",
            "4.040877845630381\n",
            "4.032454842458519\n",
            "4.024028624260469\n",
            "4.0155991580504455\n",
            "4.007166410397843\n",
            "3.998730347419555\n",
            "3.9902909347721445\n",
            "3.9818481376438344\n",
            "3.9734019207463303\n",
            "3.9649522483064654\n",
            "3.9564990840576613\n",
            "3.948042391231203\n",
            "3.9395821325473213\n",
            "3.931118270206079\n",
            "3.9226507658780525\n",
            "3.914179580694808\n",
            "3.9057046752391633\n",
            "3.8972260095352294\n",
            "3.888743543038228\n",
            "3.8802572346240773\n",
            "3.87176704257874\n",
            "3.863272924587325\n",
            "3.8547748377229443\n",
            "3.8462727384353013\n",
            "3.8377665825390235\n",
            "3.8292563252017175\n",
            "3.8207419209317446\n",
            "3.8122233235657053\n",
            "3.803700486255632\n",
            "3.7951733614558703\n",
            "3.786641900909652\n",
            "3.778106055635339\n",
            "3.7695657759123393\n",
            "3.7610210112666764\n",
            "3.7524717104562084\n",
            "3.7439178214554834\n",
            "3.7353592914402203\n",
            "3.726796066771406\n",
            "3.7182280929789924\n",
            "3.7096553147451887\n",
            "3.7010776758873294\n",
            "3.692495119340309\n",
            "3.683907587138569\n",
            "3.6753150203976244\n",
            "3.666717359295113\n",
            "3.658114543051355\n",
            "The value of y at x is: 3.658114543051355\n"
          ]
        }
      ]
    },
    {
      "cell_type": "code",
      "source": [],
      "metadata": {
        "id": "tjRL3l6KrYX6"
      },
      "execution_count": null,
      "outputs": []
    }
  ]
}